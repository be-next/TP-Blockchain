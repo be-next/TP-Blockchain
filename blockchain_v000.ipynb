{
  "nbformat": 4,
  "nbformat_minor": 0,
  "metadata": {
    "colab": {
      "provenance": [],
      "authorship_tag": "ABX9TyNNRVAJmG7qhpIqPB0FKXmr",
      "include_colab_link": true
    },
    "kernelspec": {
      "name": "python3",
      "display_name": "Python 3"
    },
    "language_info": {
      "name": "python"
    }
  },
  "cells": [
    {
      "cell_type": "markdown",
      "metadata": {
        "id": "view-in-github",
        "colab_type": "text"
      },
      "source": [
        "<a href=\"https://colab.research.google.com/github/be-next/TP-Blockchain/blob/main/blockchain_v000.ipynb\" target=\"_parent\"><img src=\"https://colab.research.google.com/assets/colab-badge.svg\" alt=\"Open In Colab\"/></a>"
      ]
    },
    {
      "cell_type": "code",
      "execution_count": 1,
      "metadata": {
        "id": "ciGeKJiXtr6m"
      },
      "outputs": [],
      "source": [
        "from hashlib import sha256\n"
      ]
    },
    {
      "cell_type": "code",
      "source": [
        "def updatehash(*args: object) -> str:\n",
        "    hashing_text = \"\"\n",
        "    h = sha256()\n",
        "    for arg in args:\n",
        "        hashing_text += str(arg)\n",
        "\n",
        "    print(f\"'{hashing_text}'\")\n",
        "    #h.update(hashing_text.encode('utf-8'))\n",
        "    return h.hexdigest()\n",
        "\n",
        "\n"
      ],
      "metadata": {
        "id": "kugkT0WHuQhM"
      },
      "execution_count": 2,
      "outputs": []
    },
    {
      "cell_type": "code",
      "source": [
        "print(updatehash([\"jerome\", \"ramette\"]))\n",
        "\n",
        "# 9c3125a008064087e6d93acf34289862fd3a625256787183f3b05ed503050809"
      ],
      "metadata": {
        "colab": {
          "base_uri": "https://localhost:8080/"
        },
        "id": "esBfSW-fuTb4",
        "outputId": "564f9cbc-10bd-4643-92ed-da944178b7d2"
      },
      "execution_count": 3,
      "outputs": [
        {
          "output_type": "stream",
          "name": "stdout",
          "text": [
            "'['jerome', 'ramette']'\n",
            "e3b0c44298fc1c149afbf4c8996fb92427ae41e4649b934ca495991b7852b855\n"
          ]
        }
      ]
    },
    {
      "cell_type": "code",
      "source": [
        "from hashlib import sha256\n",
        "\n",
        "input_ = input('Enter something: ')\n",
        "print(sha256(input_.encode('utf-8')).hexdigest())"
      ],
      "metadata": {
        "colab": {
          "base_uri": "https://localhost:8080/"
        },
        "id": "PFrlvlrR1b9b",
        "outputId": "8d6eaba8-9045-4f10-b5f9-06e807ae3bb9"
      },
      "execution_count": 4,
      "outputs": [
        {
          "output_type": "stream",
          "name": "stdout",
          "text": [
            "Enter something: jerome ramette\n",
            "e841c523721a580bdab3513b94cab9154f76f5ef026341cfe0bd100f451938e5\n"
          ]
        }
      ]
    },
    {
      "cell_type": "code",
      "source": [
        "len(str(2**256))"
      ],
      "metadata": {
        "colab": {
          "base_uri": "https://localhost:8080/"
        },
        "id": "eWPl41e0baI6",
        "outputId": "aa594722-6cbc-43db-f348-88db136e47dd"
      },
      "execution_count": 5,
      "outputs": [
        {
          "output_type": "execute_result",
          "data": {
            "text/plain": [
              "78"
            ]
          },
          "metadata": {},
          "execution_count": 5
        }
      ]
    },
    {
      "cell_type": "code",
      "source": [
        "pip install hdwallet"
      ],
      "metadata": {
        "colab": {
          "base_uri": "https://localhost:8080/"
        },
        "id": "NESwHJsUT4VT",
        "outputId": "55f46d5b-1246-4e08-d66c-42f133219156"
      },
      "execution_count": 6,
      "outputs": [
        {
          "output_type": "stream",
          "name": "stdout",
          "text": [
            "Collecting hdwallet\n",
            "  Downloading hdwallet-2.2.1-py3-none-any.whl (71 kB)\n",
            "\u001b[2K     \u001b[90m━━━━━━━━━━━━━━━━━━━━━━━━━━━━━━━━━━━━━━━━\u001b[0m \u001b[32m71.3/71.3 kB\u001b[0m \u001b[31m2.4 MB/s\u001b[0m eta \u001b[36m0:00:00\u001b[0m\n",
            "\u001b[?25hCollecting ecdsa<1,>=0.13 (from hdwallet)\n",
            "  Downloading ecdsa-0.18.0-py2.py3-none-any.whl (142 kB)\n",
            "\u001b[2K     \u001b[90m━━━━━━━━━━━━━━━━━━━━━━━━━━━━━━━━━━━━━━━━\u001b[0m \u001b[32m142.9/142.9 kB\u001b[0m \u001b[31m6.6 MB/s\u001b[0m eta \u001b[36m0:00:00\u001b[0m\n",
            "\u001b[?25hCollecting mnemonic<1,>=0.19 (from hdwallet)\n",
            "  Downloading mnemonic-0.20-py3-none-any.whl (62 kB)\n",
            "\u001b[2K     \u001b[90m━━━━━━━━━━━━━━━━━━━━━━━━━━━━━━━━━━━━━━━━\u001b[0m \u001b[32m62.0/62.0 kB\u001b[0m \u001b[31m7.7 MB/s\u001b[0m eta \u001b[36m0:00:00\u001b[0m\n",
            "\u001b[?25hCollecting pycryptodome<4,>=3.15 (from hdwallet)\n",
            "  Downloading pycryptodome-3.19.0-cp35-abi3-manylinux_2_17_x86_64.manylinux2014_x86_64.whl (2.1 MB)\n",
            "\u001b[2K     \u001b[90m━━━━━━━━━━━━━━━━━━━━━━━━━━━━━━━━━━━━━━━━\u001b[0m \u001b[32m2.1/2.1 MB\u001b[0m \u001b[31m18.6 MB/s\u001b[0m eta \u001b[36m0:00:00\u001b[0m\n",
            "\u001b[?25hCollecting base58<3,>=2.0.1 (from hdwallet)\n",
            "  Downloading base58-2.1.1-py3-none-any.whl (5.6 kB)\n",
            "Requirement already satisfied: six>=1.9.0 in /usr/local/lib/python3.10/dist-packages (from ecdsa<1,>=0.13->hdwallet) (1.16.0)\n",
            "Installing collected packages: pycryptodome, mnemonic, ecdsa, base58, hdwallet\n",
            "Successfully installed base58-2.1.1 ecdsa-0.18.0 hdwallet-2.2.1 mnemonic-0.20 pycryptodome-3.19.0\n"
          ]
        }
      ]
    },
    {
      "cell_type": "code",
      "source": [
        "from hdwallet import HDWallet\n",
        "from hdwallet.utils import generate_entropy\n",
        "from hdwallet.symbols import BTC as SYMBOL\n",
        "from typing import Optional\n",
        "\n",
        "import json"
      ],
      "metadata": {
        "id": "SYhpGFZFuCMU"
      },
      "execution_count": 7,
      "outputs": []
    },
    {
      "cell_type": "code",
      "source": [
        "# Choose strength 128, 160, 192, 224 or 256\n",
        "STRENGTH: int = 256  # Default is 128\n",
        "# Choose language english, french, italian, spanish, chinese_simplified, chinese_traditional, japanese or korean\n",
        "LANGUAGE: str = \"english\"  # Default is english\n",
        "# Generate new entropy hex string\n",
        "ENTROPY: str = generate_entropy(strength=STRENGTH)\n",
        "# Secret passphrase for mnemonic\n",
        "PASSPHRASE: Optional[str] = None  # \"meherett\"\n",
        "\n",
        "# Initialize Bitcoin mainnet HDWallet\n",
        "hdwallet: HDWallet = HDWallet(symbol=SYMBOL, use_default_path=True)\n",
        "# Get Bitcoin HDWallet from entropy\n",
        "hdwallet.from_entropy(\n",
        "    entropy=ENTROPY, language=LANGUAGE, passphrase=PASSPHRASE\n",
        ")\n",
        "\n",
        "# Print all Bitcoin HDWallet information's\n",
        "print(json.dumps(hdwallet.dumps(), indent=4, ensure_ascii=False))"
      ],
      "metadata": {
        "colab": {
          "base_uri": "https://localhost:8080/"
        },
        "id": "hNn5TaaFUIo4",
        "outputId": "2122fb1c-7128-452d-a234-eb02d9ffc57a"
      },
      "execution_count": 8,
      "outputs": [
        {
          "output_type": "stream",
          "name": "stdout",
          "text": [
            "{\n",
            "    \"cryptocurrency\": \"Bitcoin\",\n",
            "    \"symbol\": \"BTC\",\n",
            "    \"network\": \"mainnet\",\n",
            "    \"strength\": 256,\n",
            "    \"entropy\": \"31f1ff2eba1784e72d8f87040230114310bd17cd104dcd52f6551c4624de60ea\",\n",
            "    \"mnemonic\": \"cradle morning slight injury joke inform renew valley advice bag affair mail armed message crowd answer snap nut next decade girl hundred lonely faith\",\n",
            "    \"language\": \"english\",\n",
            "    \"passphrase\": null,\n",
            "    \"seed\": \"0ca283e3daa937a738f3efd4f4fd15c3e1951b378ab60599ff3170ef3dd554a4275b20265260c4712cea165978707079aa9260a3f208b72bca00b54ee18e32a7\",\n",
            "    \"root_xprivate_key\": \"xprv9s21ZrQH143K2rvpJnePrD33bxYdA113jtjomn4GjbvhudtmCt1aKppPJyvh7jDNYsQoU9z3fYE5ieo1Qh3qyeYuPjajbxuHjPzc1tHRgPd\",\n",
            "    \"root_xpublic_key\": \"xpub661MyMwAqRbcFM1HQpBQDLyn9zP7ZTiu77fQaATtHwTgnSDukRKpsd8sAEr6GPestkiz9FBANqoPpRvTxe2EKTnF7NujjwSZKd6LAUZF8Qy\",\n",
            "    \"xprivate_key\": \"xprvA2ZZULPJu35SQ55nNfvVY2BdAvUbUE91hwkL6bJUnukWW8aAqDSEyYCHdzWnXiuZ6AFavFTZaNp8Fsdz3egNAjE5y39To32HVH68FGj4db1\",\n",
            "    \"xpublic_key\": \"xpub6FYusqvCjQdjcZAFUhTVuA8MixK5sgrs5Afvtyi6MFHVNvuKNkkVXLWmVE145VZiBi7E9B7j9cC3YJ6adgLWkLTPkJVKHGuSezFNfXsHE5D\",\n",
            "    \"uncompressed\": \"0adb70c5cc52f9e7597c7cff5f10440b02749fbb595271b1720223b47ac22c8f09283b23a2d83c3aa8916c9a610fcc8388256e0e4c8fa666a8bab7173c580c26\",\n",
            "    \"compressed\": \"020adb70c5cc52f9e7597c7cff5f10440b02749fbb595271b1720223b47ac22c8f\",\n",
            "    \"chain_code\": \"5d9fe1f47f21fc046d39f7a04ae1870cb1e0863c69a99d26e291ceee134769c7\",\n",
            "    \"private_key\": \"d612e145bbaee4358d1403ee231e28921c2b7173efbe16f93466aa5f49514e62\",\n",
            "    \"public_key\": \"020adb70c5cc52f9e7597c7cff5f10440b02749fbb595271b1720223b47ac22c8f\",\n",
            "    \"wif\": \"L4Pqog2cZAoijdNMfLB53rqTTTGNWtptF9mDfhZ13M46mazVkpWW\",\n",
            "    \"finger_print\": \"02fc908e\",\n",
            "    \"semantic\": \"p2pkh\",\n",
            "    \"path\": \"m/44'/0'/0'/0/0\",\n",
            "    \"hash\": \"02fc908ee2c7b3d15177221217ee499a3533093f\",\n",
            "    \"addresses\": {\n",
            "        \"p2pkh\": \"1GnutM81SrToMmZ9HdeKsCzCsHUNU7EKu\",\n",
            "        \"p2sh\": \"3FKAU6wUH1549BqxcLiSsEoYae2omwoEDn\",\n",
            "        \"p2wpkh\": \"bc1qqt7fprhzc7eaz5thygfp0mjfng6nxzflv3dvrp\",\n",
            "        \"p2wpkh_in_p2sh\": \"3BR4PvihpWLR8PBAxxTwTHWkgqKW1Zb8k2\",\n",
            "        \"p2wsh\": \"bc1qr0l60ufs36p8ncy3jcrmtfy0e4ffwfeuzrgvfraw9740lr74rdhssvznxj\",\n",
            "        \"p2wsh_in_p2sh\": \"35SJZJWcYyD2f8zcjAqG8ii1v3otvQvG9P\"\n",
            "    }\n",
            "}\n"
          ]
        }
      ]
    },
    {
      "cell_type": "code",
      "source": [
        "pip install mnemonic"
      ],
      "metadata": {
        "colab": {
          "base_uri": "https://localhost:8080/"
        },
        "id": "WtP3dD6mUa_6",
        "outputId": "718272c7-2619-4e88-c279-5f82e6790673"
      },
      "execution_count": 9,
      "outputs": [
        {
          "output_type": "stream",
          "name": "stdout",
          "text": [
            "Requirement already satisfied: mnemonic in /usr/local/lib/python3.10/dist-packages (0.20)\n"
          ]
        }
      ]
    },
    {
      "cell_type": "code",
      "source": [
        "from mnemonic import Mnemonic\n",
        "\n",
        "mnemo = Mnemonic(\"english\")\n",
        "words = mnemo.generate(strength=256)\n",
        "\n",
        "print(words)"
      ],
      "metadata": {
        "colab": {
          "base_uri": "https://localhost:8080/"
        },
        "id": "_l01bkhfWZc1",
        "outputId": "172b3ca8-bc69-495e-d116-269759742db0"
      },
      "execution_count": 10,
      "outputs": [
        {
          "output_type": "stream",
          "name": "stdout",
          "text": [
            "sleep immense slender organ true bitter smoke once ostrich room arm sell suggest sock tower either frame pet tube mountain swear display air attend\n"
          ]
        }
      ]
    },
    {
      "cell_type": "code",
      "source": [
        "seed = mnemo.to_seed(words, passphrase=\"\")\n",
        "\n",
        "print(seed)"
      ],
      "metadata": {
        "colab": {
          "base_uri": "https://localhost:8080/"
        },
        "id": "w-3yq6OMWtFl",
        "outputId": "52b107a0-1064-4bf0-ae64-0a4e450b6dca"
      },
      "execution_count": 11,
      "outputs": [
        {
          "output_type": "stream",
          "name": "stdout",
          "text": [
            "b'\\xc0\\xf4\\xfaZ}!\\x83\\x8d\\xc2\\xc6\\x94\\xfb\\xbd72%bj\\xbd:f\\xafq\\x7f\\x1a\\x9e\\xeb\\x17*x\\x15p\\xda\\x9a\\xa6\\xd64\\xdej@\\x03]\\xc6I2A9\\xa38\\x9d\\x83dC\\xfd\\x9b_7\\xb5!\\xedf4\\xb4\\xd3'\n"
          ]
        }
      ]
    },
    {
      "cell_type": "code",
      "source": [
        "import rsa"
      ],
      "metadata": {
        "id": "aYK8sQIXW3Qa"
      },
      "execution_count": 12,
      "outputs": []
    },
    {
      "cell_type": "code",
      "source": [
        "message = \"Je donne 1 btc à Ferdinand\"\n",
        "\n",
        "privkey = \"7a7f461650ac81c25884f4d28d41c324f66f6a89f0e9d679c4781c58411e4bd2\"\n",
        "\n",
        "signature = rsa.sign(message, privkey, 'SHA-256')\n",
        "\n"
      ],
      "metadata": {
        "id": "kOO2IgOBei_9"
      },
      "execution_count": null,
      "outputs": []
    },
    {
      "cell_type": "code",
      "source": [
        "!ls"
      ],
      "metadata": {
        "colab": {
          "base_uri": "https://localhost:8080/"
        },
        "id": "AzRRBxKGfWHU",
        "outputId": "8b1e0a6c-7d4a-4b9e-ebaa-f48fba6ffb3c"
      },
      "execution_count": null,
      "outputs": [
        {
          "output_type": "stream",
          "name": "stdout",
          "text": [
            "sample_data\n"
          ]
        }
      ]
    },
    {
      "cell_type": "code",
      "source": [
        "(8**23)%55"
      ],
      "metadata": {
        "id": "BeTXyLqLduvn"
      },
      "execution_count": null,
      "outputs": []
    },
    {
      "cell_type": "code",
      "source": [
        "for x in range(0, 40):\n",
        "  y = ((23 * x) - 1)/40\n",
        "  print(f\"x = {x},\\t y = {y}\")\n",
        "\n",
        "  if y.is_integer():\n",
        "    break"
      ],
      "metadata": {
        "id": "CLbYeh5N0sog"
      },
      "execution_count": null,
      "outputs": []
    },
    {
      "cell_type": "code",
      "source": [
        "(17**7)%55"
      ],
      "metadata": {
        "id": "nxexSFDjrtWe"
      },
      "execution_count": null,
      "outputs": []
    },
    {
      "cell_type": "code",
      "source": [
        "def crypt(msg:int, N:int = 55, c:int = 23):\n",
        "  return (msg**c)%N\n",
        "\n",
        "def decrypt(msg:int, N:int = 55, d:int = 7):\n",
        "  return (msg**d)%N\n",
        "\n",
        "print(str(crypt(msg=8, N=55, c=23)))\n",
        "\n",
        "decrypt(crypt(9))\n"
      ],
      "metadata": {
        "id": "rjBXY-cf0mjb"
      },
      "execution_count": null,
      "outputs": []
    },
    {
      "cell_type": "code",
      "source": [],
      "metadata": {
        "id": "42bfbU_GHR0p"
      },
      "execution_count": null,
      "outputs": []
    }
  ]
}