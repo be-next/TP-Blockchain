{
  "nbformat": 4,
  "nbformat_minor": 0,
  "metadata": {
    "colab": {
      "provenance": [],
      "authorship_tag": "ABX9TyMFlowtv2jg/MqM0D364k2c",
      "include_colab_link": true
    },
    "kernelspec": {
      "name": "python3",
      "display_name": "Python 3"
    },
    "language_info": {
      "name": "python"
    }
  },
  "cells": [
    {
      "cell_type": "markdown",
      "metadata": {
        "id": "view-in-github",
        "colab_type": "text"
      },
      "source": [
        "<a href=\"https://colab.research.google.com/github/be-next/TP-Blockchain/blob/main/blockchain_v001.ipynb\" target=\"_parent\"><img src=\"https://colab.research.google.com/assets/colab-badge.svg\" alt=\"Open In Colab\"/></a>"
      ]
    },
    {
      "cell_type": "code",
      "execution_count": 1,
      "metadata": {
        "id": "ndLTGbsSkGK6"
      },
      "outputs": [],
      "source": [
        "from hashlib import sha256"
      ]
    },
    {
      "cell_type": "code",
      "source": [
        "def updatehash(*args: object) -> str:\n",
        "    h = sha256()\n",
        "    hashing_text = \"\".join(map(str, args))\n",
        "\n",
        "    h.update(hashing_text.encode('utf-8'))\n",
        "    return h.hexdigest()"
      ],
      "metadata": {
        "id": "Q6BcBYUekd4x"
      },
      "execution_count": 2,
      "outputs": []
    },
    {
      "cell_type": "code",
      "source": [
        "class Block:\n",
        "    def __init__(self, data, number=0):\n",
        "        self.data = data\n",
        "        self.number = number\n",
        "        self.nonce = 0\n",
        "        self.previous_hash = \"0\" * 64\n",
        "\n",
        "    def hash(self) -> str:\n",
        "        return str(updatehash(\n",
        "            self.number,\n",
        "            self.previous_hash,\n",
        "            self.data,\n",
        "            self.nonce))\n",
        "\n",
        "    def __str__(self):\n",
        "      return str(f\"Block# : {self.number}\\nHash: {self.hash()}\\nPrevious: {self.previous_hash}\\nData: {self.data}\\nNonce: {self.nonce}\\n\")"
      ],
      "metadata": {
        "id": "2lB7wYT2VKLY"
      },
      "execution_count": 3,
      "outputs": []
    },
    {
      "cell_type": "code",
      "source": [
        "from time import perf_counter\n",
        "\n",
        "difficulty = 3\n",
        "\n",
        "block = Block(data=\"bonjour\")\n",
        "\n",
        "t1_start = perf_counter()\n",
        "\n",
        "while True:\n",
        "  hash = block.hash()\n",
        "  if hash[:difficulty] == \"0\" * difficulty:\n",
        "    break\n",
        "  else:\n",
        "    block.nonce += 1\n",
        "\n",
        "t1_stop = perf_counter()\n",
        "\n",
        "print(f\"Time elapsed : {t1_stop-t1_start}s\\n\")\n",
        "\n",
        "print(block)"
      ],
      "metadata": {
        "id": "cleEoNacXYUE",
        "colab": {
          "base_uri": "https://localhost:8080/"
        },
        "outputId": "ac8886ff-82d3-4b20-acb0-dbef7f949aa4"
      },
      "execution_count": 5,
      "outputs": [
        {
          "output_type": "stream",
          "name": "stdout",
          "text": [
            "Time elapsed : 0.018881655000001274s\n",
            "\n",
            "Block# : 0\n",
            "Hash: 000f9f644bfa52516723e69b05376ca847a7bc4f7b78995e816732466dc17a00\n",
            "Previous: 0000000000000000000000000000000000000000000000000000000000000000\n",
            "Data: bonjour\n",
            "Nonce: 4338\n",
            "\n"
          ]
        }
      ]
    },
    {
      "cell_type": "code",
      "source": [
        "from time import perf_counter\n",
        "\n",
        "difficulty = 4\n",
        "\n",
        "block = Block(data=\"bonjour\")\n",
        "\n",
        "t1_start = perf_counter()\n",
        "\n",
        "while True:\n",
        "  hash = block.hash()\n",
        "  if hash[:difficulty] == \"0\" * difficulty:\n",
        "    break\n",
        "  else:\n",
        "    block.nonce += 1\n",
        "\n",
        "t1_stop = perf_counter()\n",
        "\n",
        "print(f\"Time elapsed : {t1_stop-t1_start}s\\n\")\n",
        "\n",
        "print(block)"
      ],
      "metadata": {
        "colab": {
          "base_uri": "https://localhost:8080/"
        },
        "id": "Y5GcDrwyFrj7",
        "outputId": "9afb700e-4176-4cec-929a-2c71b04af8b4"
      },
      "execution_count": 6,
      "outputs": [
        {
          "output_type": "stream",
          "name": "stdout",
          "text": [
            "Time elapsed : 0.11590707599999917s\n",
            "\n",
            "Block# : 0\n",
            "Hash: 0000cd3ed25321f4f227893cb14881b87e7ca4d02c01b32e4fcd0ab5cf128927\n",
            "Previous: 0000000000000000000000000000000000000000000000000000000000000000\n",
            "Data: bonjour\n",
            "Nonce: 38677\n",
            "\n"
          ]
        }
      ]
    },
    {
      "cell_type": "code",
      "source": [
        "class Blockchain:\n",
        "    def __init__(self, chain=None, difficulty=4):\n",
        "        if chain is None:\n",
        "            chain = []\n",
        "        self.chain = chain\n",
        "        self.difficulty = difficulty\n",
        "        self.block_nb = 0\n",
        "\n",
        "    def __str__(self):\n",
        "      s = \"\"\n",
        "      for block in self.chain:\n",
        "        s += str(block)\n",
        "\n",
        "      return s\n",
        "\n",
        "    def mine(self, block):\n",
        "        try:\n",
        "            block.previous_hash = self.chain[self.block_nb-1].hash()\n",
        "        except IndexError:\n",
        "            pass\n",
        "\n",
        "        self.block_nb += 1\n",
        "        block.number = self.block_nb\n",
        "\n",
        "        while True:\n",
        "            if block.hash()[:self.difficulty] == \"0\" * self.difficulty:\n",
        "                self.chain.append(block)\n",
        "                break\n",
        "            else:\n",
        "                block.nonce += 1\n",
        "\n",
        "    @property\n",
        "    def isValid(self):\n",
        "        for i in range(1, len(self.chain)):\n",
        "            _current = self.chain[i-1].hash()\n",
        "            _previous = self.chain[i].previous_hash\n",
        "            if _current != _previous or _current[:self.difficulty] != \"0\"*self.difficulty:\n",
        "                return False\n",
        "        return True"
      ],
      "metadata": {
        "id": "7FqzIFpYVO-O"
      },
      "execution_count": 10,
      "outputs": []
    },
    {
      "cell_type": "code",
      "source": [
        "def main():\n",
        "    blockchain = Blockchain()\n",
        "    database = [\"hello\", \"goodbye\", \"test\", \"DATA here\"]\n",
        "\n",
        "    for data in database:\n",
        "      blockchain.mine(Block(data))\n",
        "\n",
        "    print(blockchain)\n",
        "    print(\"Is blochain valid? \" + str(blockchain.isValid) + \"\\n\")\n",
        "\n",
        "    blockchain.chain[2].data = \"hacker\"\n",
        "\n",
        "    print(\"Is blochain valid? \" + str(blockchain.isValid) + \"\\n\")\n",
        "    print(blockchain)\n"
      ],
      "metadata": {
        "id": "vOMuhqS5VT5u"
      },
      "execution_count": 13,
      "outputs": []
    },
    {
      "cell_type": "code",
      "source": [
        "main()"
      ],
      "metadata": {
        "id": "pH-gOS3NVYo0",
        "colab": {
          "base_uri": "https://localhost:8080/"
        },
        "outputId": "8c7ed2bf-e282-4e00-ba74-0ebaa8d4f2e1"
      },
      "execution_count": 14,
      "outputs": [
        {
          "output_type": "stream",
          "name": "stdout",
          "text": [
            "Block# : 1\n",
            "Hash: 0000406727e818ab11b69f4cfa71db66e3a98c8fe25eddd006b46645ccc4b662\n",
            "Previous: 0000000000000000000000000000000000000000000000000000000000000000\n",
            "Data: hello\n",
            "Nonce: 73572\n",
            "Block# : 2\n",
            "Hash: 00009ada0786defab4ed27acaa757fecb32289c3906adb2467e34f1023b5ef2e\n",
            "Previous: 0000406727e818ab11b69f4cfa71db66e3a98c8fe25eddd006b46645ccc4b662\n",
            "Data: goodbye\n",
            "Nonce: 152605\n",
            "Block# : 3\n",
            "Hash: 0000becf90af710881d1ffc286d79ecb1315fb062a3123591a3ac9ef87067e57\n",
            "Previous: 00009ada0786defab4ed27acaa757fecb32289c3906adb2467e34f1023b5ef2e\n",
            "Data: test\n",
            "Nonce: 182395\n",
            "Block# : 4\n",
            "Hash: 0000be3fdaa4642954fbb6c96688c060ae8f5b96d6199449cf665d252cd53d22\n",
            "Previous: 0000becf90af710881d1ffc286d79ecb1315fb062a3123591a3ac9ef87067e57\n",
            "Data: DATA here\n",
            "Nonce: 160170\n",
            "\n",
            "Is blochain valid? True\n",
            "\n",
            "Is blochain valid? False\n",
            "\n",
            "Block# : 1\n",
            "Hash: 0000406727e818ab11b69f4cfa71db66e3a98c8fe25eddd006b46645ccc4b662\n",
            "Previous: 0000000000000000000000000000000000000000000000000000000000000000\n",
            "Data: hello\n",
            "Nonce: 73572\n",
            "Block# : 2\n",
            "Hash: 00009ada0786defab4ed27acaa757fecb32289c3906adb2467e34f1023b5ef2e\n",
            "Previous: 0000406727e818ab11b69f4cfa71db66e3a98c8fe25eddd006b46645ccc4b662\n",
            "Data: goodbye\n",
            "Nonce: 152605\n",
            "Block# : 3\n",
            "Hash: f48990fed7756cbbd7519469daa41e78d69c05d1938af6426d2e0913edd2ff3a\n",
            "Previous: 00009ada0786defab4ed27acaa757fecb32289c3906adb2467e34f1023b5ef2e\n",
            "Data: hacker\n",
            "Nonce: 182395\n",
            "Block# : 4\n",
            "Hash: 0000be3fdaa4642954fbb6c96688c060ae8f5b96d6199449cf665d252cd53d22\n",
            "Previous: 0000becf90af710881d1ffc286d79ecb1315fb062a3123591a3ac9ef87067e57\n",
            "Data: DATA here\n",
            "Nonce: 160170\n",
            "\n"
          ]
        }
      ]
    },
    {
      "cell_type": "code",
      "source": [],
      "metadata": {
        "id": "pbcHSQCTeDQL"
      },
      "execution_count": null,
      "outputs": []
    }
  ]
}